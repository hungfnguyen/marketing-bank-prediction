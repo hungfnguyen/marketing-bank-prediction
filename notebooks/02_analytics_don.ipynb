{
 "cells": [
  {
   "cell_type": "code",
   "execution_count": 3,
   "id": "2a41122b",
   "metadata": {},
   "outputs": [],
   "source": [
    "#init spark\n",
    "!pip install -q pyspark findspark\n",
    "\n",
    "import findspark\n",
    "findspark.init()\n",
    "import pyspark\n",
    "findspark.find()\n",
    "from pyspark.sql import SparkSession\n",
    "spark = SparkSession.builder.appName(\"analytics_data\").getOrCreate()\n"
   ]
  },
  {
   "cell_type": "code",
   "execution_count": 6,
   "id": "d6cb9f69",
   "metadata": {},
   "outputs": [
    {
     "name": "stdout",
     "output_type": "stream",
     "text": [
      "+---------+-----+-----------+--------+--------+-----+--------+---+\n",
      "|contact  |month|day_of_week|duration|campaign|pdays|previous|y  |\n",
      "+---------+-----+-----------+--------+--------+-----+--------+---+\n",
      "|telephone|may  |mon        |261     |1       |999  |0       |no |\n",
      "|telephone|may  |mon        |149     |1       |999  |0       |no |\n",
      "|telephone|may  |mon        |226     |1       |999  |0       |no |\n",
      "|telephone|may  |mon        |151     |1       |999  |0       |no |\n",
      "|telephone|may  |mon        |307     |1       |999  |0       |no |\n",
      "|telephone|may  |mon        |198     |1       |999  |0       |no |\n",
      "|telephone|may  |mon        |139     |1       |999  |0       |no |\n",
      "|telephone|may  |mon        |217     |1       |999  |0       |no |\n",
      "|telephone|may  |mon        |380     |1       |999  |0       |no |\n",
      "|telephone|may  |mon        |50      |1       |999  |0       |no |\n",
      "+---------+-----+-----------+--------+--------+-----+--------+---+\n",
      "only showing top 10 rows\n",
      "\n"
     ]
    }
   ],
   "source": [
    "path = \"bank-additional-full.csv\"\n",
    "raw_df = (\n",
    "    spark.read\n",
    "    .option(\"header\", True)\n",
    "    .option(\"inferschema\", True)\n",
    "    .option(\"sep\", \";\")\n",
    "    .csv(path)\n",
    ")\n",
    "\n",
    "cols = ['contact', 'month', 'day_of_week', 'duration', 'campaign', 'pdays', 'previous']\n",
    "target_col = 'y'\n",
    "df = raw_df.select(*(cols + [target_col]))\n",
    "\n",
    "df.show(10, truncate=False)"
   ]
  },
  {
   "cell_type": "code",
   "execution_count": null,
   "id": "4fb0c42c",
   "metadata": {},
   "outputs": [
    {
     "name": "stdout",
     "output_type": "stream",
     "text": [
      "schema df: \n",
      "root\n",
      " |-- contact: string (nullable = true)\n",
      " |-- month: string (nullable = true)\n",
      " |-- day_of_week: string (nullable = true)\n",
      " |-- duration: integer (nullable = true)\n",
      " |-- campaign: integer (nullable = true)\n",
      " |-- pdays: integer (nullable = true)\n",
      " |-- previous: integer (nullable = true)\n",
      " |-- y: string (nullable = true)\n",
      "\n",
      "__________________________________________\n",
      "\n",
      " So dong df: \n",
      "41188\n",
      "__________________________________________\n",
      "Phan bo lop y: \n",
      "+---+-----+\n",
      "|  y|count|\n",
      "+---+-----+\n",
      "| no|36548|\n",
      "|yes| 4640|\n",
      "+---+-----+\n",
      "\n"
     ]
    }
   ],
   "source": [
    "print(\"schema df: \")\n",
    "df.printSchema()\n",
    "print(\"__________________________________________\")\n",
    "\n",
    "print(\"\\n So dong df: \")\n",
    "print(df.count())\n",
    "print(\"__________________________________________\")\n"
   ]
  },
  {
   "cell_type": "code",
   "execution_count": 25,
   "id": "223af228",
   "metadata": {},
   "outputs": [
    {
     "name": "stdout",
     "output_type": "stream",
     "text": [
      "Ty le :\n",
      "+---+-----+---------+\n",
      "|  y|count|ratio (%)|\n",
      "+---+-----+---------+\n",
      "| no|36548|    88.73|\n",
      "|yes| 4640|    11.27|\n",
      "+---+-----+---------+\n",
      "\n"
     ]
    }
   ],
   "source": [
    "from pyspark.sql import functions as F\n",
    "class_count = df.groupby(target_col).count().orderBy(\"count\", ascending = False)\n",
    "\n",
    "print(\"Ty le :\")\n",
    "total = df.count()\n",
    "func = (F.col(\"count\") / total * 100).cast(\"double\")\n",
    "class_ratio = class_count.withColumn(\n",
    "    \"ratio (%)\", F.round(func, 2)\n",
    ")\n",
    "class_ratio.show()"
   ]
  },
  {
   "cell_type": "code",
   "execution_count": 29,
   "id": "bd8bca9b",
   "metadata": {},
   "outputs": [
    {
     "name": "stdout",
     "output_type": "stream",
     "text": [
      "Checking missing values: \n",
      "contact              null = 0\n",
      "month                null = 0\n",
      "day_of_week          null = 0\n",
      "duration             null = 0\n",
      "campaign             null = 0\n",
      "pdays                null = 0\n",
      "previous             null = 0\n",
      "y                    null = 0\n"
     ]
    }
   ],
   "source": [
    "print(\"Checking missing values: \")\n",
    "total = df.count()\n",
    "\n",
    "for c in df.columns:\n",
    "    miss = df.filter(F.col(c).isNull()).count()\n",
    "    print(f\"{c:20s} null = {miss}\")"
   ]
  },
  {
   "cell_type": "code",
   "execution_count": null,
   "id": "bc5f67e0",
   "metadata": {},
   "outputs": [],
   "source": []
  }
 ],
 "metadata": {
  "kernelspec": {
   "display_name": "Python 3",
   "language": "python",
   "name": "python3"
  },
  "language_info": {
   "codemirror_mode": {
    "name": "ipython",
    "version": 3
   },
   "file_extension": ".py",
   "mimetype": "text/x-python",
   "name": "python",
   "nbconvert_exporter": "python",
   "pygments_lexer": "ipython3",
   "version": "3.9.8"
  }
 },
 "nbformat": 4,
 "nbformat_minor": 5
}

{
 "cells": [
  {
   "cell_type": "markdown",
   "id": "48862ac5",
   "metadata": {},
   "source": [
    "# 🧠  Economic Context & Synthesis (EDA + Modeling)\n",
    "## 🎯 Mục tiêu\n",
    "Phân tích các **biến kinh tế vĩ mô** ảnh hưởng đến việc **khách hàng có gửi tiền (y)** hay không.  \n",
    "Sau đó, xây dựng các mô hình dự đoán với **PySpark**, xử lý dữ liệu **mất cân bằng** bằng **SMOTE**,  và đánh giá mô hình bằng **Cross-validation**.\n"
   ]
  },
  {
   "cell_type": "code",
   "execution_count": null,
   "id": "39183a0e",
   "metadata": {},
   "outputs": [
    {
     "name": "stdout",
     "output_type": "stream",
     "text": [
      "Số dòng: 41188\n",
      "root\n",
      " |-- age: integer (nullable = true)\n",
      " |-- job: string (nullable = true)\n",
      " |-- marital: string (nullable = true)\n",
      " |-- education: string (nullable = true)\n",
      " |-- default: string (nullable = true)\n",
      " |-- housing: string (nullable = true)\n",
      " |-- loan: string (nullable = true)\n",
      " |-- contact: string (nullable = true)\n",
      " |-- month: string (nullable = true)\n",
      " |-- day_of_week: string (nullable = true)\n",
      " |-- duration: integer (nullable = true)\n",
      " |-- campaign: integer (nullable = true)\n",
      " |-- pdays: integer (nullable = true)\n",
      " |-- previous: integer (nullable = true)\n",
      " |-- poutcome: string (nullable = true)\n",
      " |-- emp.var.rate: double (nullable = true)\n",
      " |-- cons.price.idx: double (nullable = true)\n",
      " |-- cons.conf.idx: double (nullable = true)\n",
      " |-- euribor3m: double (nullable = true)\n",
      " |-- nr.employed: double (nullable = true)\n",
      " |-- y: string (nullable = true)\n",
      "\n"
     ]
    }
   ],
   "source": [
    "# Import các thư viện cần thiết\n",
    "from pyspark.sql import SparkSession\n",
    "from pyspark.sql.functions import col\n",
    "from pyspark.ml.feature import VectorAssembler\n",
    "from pyspark.ml.classification import LogisticRegression, RandomForestClassifier, GBTClassifier\n",
    "from pyspark.ml.evaluation import MulticlassClassificationEvaluator\n",
    "from pyspark.ml.tuning import CrossValidator, ParamGridBuilder\n",
    "\n",
    "\n",
    "\n",
    "# Tạo SparkSession\n",
    "spark = SparkSession.builder.appName(\"Hao_Economic_Context_Synthesis\").getOrCreate()\n",
    "\n",
    "# Đọc dữ liệu\n",
    "data = spark.read.csv(\"../data/bank-additional/bank-additional-full.csv\", header=True, sep=';', inferSchema=True)\n",
    "print(\"Số dòng:\", data.count())\n",
    "data.printSchema()\n"
   ]
  },
  {
   "cell_type": "code",
   "execution_count": 4,
   "id": "429271b4",
   "metadata": {},
   "outputs": [
    {
     "name": "stdout",
     "output_type": "stream",
     "text": [
      "+---+---------+-------+-----------+-------+-------+----+---------+-----+-----------+--------+--------+-----+--------+-----------+------------+--------------+-------------+---------+-----------+---+\n",
      "|age|      job|marital|  education|default|housing|loan|  contact|month|day_of_week|duration|campaign|pdays|previous|   poutcome|emp.var.rate|cons.price.idx|cons.conf.idx|euribor3m|nr.employed|  y|\n",
      "+---+---------+-------+-----------+-------+-------+----+---------+-----+-----------+--------+--------+-----+--------+-----------+------------+--------------+-------------+---------+-----------+---+\n",
      "| 56|housemaid|married|   basic.4y|     no|     no|  no|telephone|  may|        mon|     261|       1|  999|       0|nonexistent|         1.1|        93.994|        -36.4|    4.857|     5191.0| no|\n",
      "| 57| services|married|high.school|unknown|     no|  no|telephone|  may|        mon|     149|       1|  999|       0|nonexistent|         1.1|        93.994|        -36.4|    4.857|     5191.0| no|\n",
      "| 37| services|married|high.school|     no|    yes|  no|telephone|  may|        mon|     226|       1|  999|       0|nonexistent|         1.1|        93.994|        -36.4|    4.857|     5191.0| no|\n",
      "| 40|   admin.|married|   basic.6y|     no|     no|  no|telephone|  may|        mon|     151|       1|  999|       0|nonexistent|         1.1|        93.994|        -36.4|    4.857|     5191.0| no|\n",
      "| 56| services|married|high.school|     no|     no| yes|telephone|  may|        mon|     307|       1|  999|       0|nonexistent|         1.1|        93.994|        -36.4|    4.857|     5191.0| no|\n",
      "+---+---------+-------+-----------+-------+-------+----+---------+-----+-----------+--------+--------+-----+--------+-----------+------------+--------------+-------------+---------+-----------+---+\n",
      "only showing top 5 rows\n",
      "\n"
     ]
    }
   ],
   "source": [
    "data.show(5)"
   ]
  },
  {
   "cell_type": "markdown",
   "id": "b09d3da1",
   "metadata": {},
   "source": [
    "## 🔍 2️⃣ EDA - Phân tích ảnh hưởng của các biến kinh tế vĩ mô\n",
    "Ở đây ta tập trung vào 5 biến vĩ mô:\n",
    "- `emp.var.rate` – tỷ lệ biến động việc làm  \n",
    "- `cons.price.idx` – chỉ số giá tiêu dùng  \n",
    "- `cons.conf.idx` – chỉ số niềm tin người tiêu dùng  \n",
    "- `euribor3m` – lãi suất EURIBOR 3 tháng  \n",
    "- `nr.employed` – số người có việc làm  \n",
    "\n",
    "Ta sẽ xem xét **phân phối**, **tương quan** và **ảnh hưởng** của chúng tới biến mục tiêu `y`.\n"
   ]
  },
  {
   "cell_type": "code",
   "execution_count": 8,
   "id": "6d356058",
   "metadata": {},
   "outputs": [],
   "source": [
    "# Đổi tên cột để tránh lỗi có dấu chấm\n",
    "data = (data\n",
    "    .withColumnRenamed(\"emp.var.rate\", \"emp_var_rate\")\n",
    "    .withColumnRenamed(\"cons.price.idx\", \"cons_price_idx\")\n",
    "    .withColumnRenamed(\"cons.conf.idx\", \"cons_conf_idx\")\n",
    "    .withColumnRenamed(\"nr.employed\", \"nr_employed\")\n",
    ")\n",
    "\n",
    "macro_cols = [\"emp_var_rate\", \"cons_price_idx\", \"cons_conf_idx\", \"euribor3m\", \"nr_employed\"]"
   ]
  },
  {
   "cell_type": "code",
   "execution_count": null,
   "id": "58b660bc",
   "metadata": {},
   "outputs": [
    {
     "name": "stdout",
     "output_type": "stream",
     "text": [
      "=== 1️⃣ Thống kê mô tả cơ bản ===\n",
      "+-------+-------------------+------------------+------------------+------------------+-----------------+\n",
      "|summary|emp_var_rate       |cons_price_idx    |cons_conf_idx     |euribor3m         |nr_employed      |\n",
      "+-------+-------------------+------------------+------------------+------------------+-----------------+\n",
      "|count  |41188              |41188             |41188             |41188             |41188            |\n",
      "|mean   |0.08188550063178392|93.57566436828918 |-40.50260027191787|3.6212908128585366|5167.035910944004|\n",
      "|stddev |1.57095974051703   |0.5788400489541355|4.628197856174595 |1.7344474048512557|72.25152766825924|\n",
      "|min    |-3.4               |92.201            |-50.8             |0.634             |4963.6           |\n",
      "|max    |1.4                |94.767            |-26.9             |5.045             |5228.1           |\n",
      "+-------+-------------------+------------------+------------------+------------------+-----------------+\n",
      "\n",
      "=== 2️⃣ Tỷ lệ phân bố biến mục tiêu y ===\n",
      "+---+-----+------------------+\n",
      "|  y|count|        percentage|\n",
      "+---+-----+------------------+\n",
      "| no|36548| 88.73458288821988|\n",
      "|yes| 4640|11.265417111780131|\n",
      "+---+-----+------------------+\n",
      "\n",
      "=== 3️⃣ Trung bình các biến vĩ mô theo từng giá trị y ===\n",
      "+---+-------------------+------------------+-------------------+------------------+-----------------+\n",
      "|y  |avg_emp_var_rate   |avg_cons_price_idx|avg_cons_conf_idx  |avg_euribor3m     |avg_nr_employed  |\n",
      "+---+-------------------+------------------+-------------------+------------------+-----------------+\n",
      "|no |0.2488754514616543 |93.60375705922988 |-40.59309674947398 |3.8114911623072874|5176.166600086014|\n",
      "|yes|-1.2334482758620804|93.3543859913799  |-39.789784482759686|2.1231351293103327|5095.115991379181|\n",
      "+---+-------------------+------------------+-------------------+------------------+-----------------+\n",
      "\n",
      "=== 4️⃣ Ma trận tương quan giữa các biến vĩ mô ===\n",
      "+--------------+-------------------+-------------------+--------------------+-------------------+-------------------+\n",
      "|Feature       |emp_var_rate       |cons_price_idx     |cons_conf_idx       |euribor3m          |nr_employed        |\n",
      "+--------------+-------------------+-------------------+--------------------+-------------------+-------------------+\n",
      "|emp_var_rate  |1.0                |0.775334170834832  |0.19604126813197284 |0.9722446711516147 |0.9069701012560353 |\n",
      "|cons_price_idx|0.775334170834832  |1.0                |0.058986181748833216|0.688230107037495  |0.5220339770130168 |\n",
      "|cons_conf_idx |0.19604126813197287|0.05898618174883324|1.0                 |0.27768621966375506|0.10051343183753894|\n",
      "|euribor3m     |0.9722446711516147 |0.6882301070374951 |0.27768621966375506 |1.0                |0.9451544313982513 |\n",
      "|nr_employed   |0.9069701012560353 |0.5220339770130166 |0.10051343183753896 |0.9451544313982513 |1.0                |\n",
      "+--------------+-------------------+-------------------+--------------------+-------------------+-------------------+\n",
      "\n"
     ]
    }
   ],
   "source": [
    "from pyspark.sql.functions import col, mean, stddev, min as _min, max as _max, count, corr\n",
    "from pyspark.sql.types import FloatType\n",
    "# === ĐỔI TÊN CỘT CHO HỢP LỆ (nếu chưa làm) ===\n",
    "data = (data\n",
    "    .withColumnRenamed(\"emp.var.rate\", \"emp_var_rate\")\n",
    "    .withColumnRenamed(\"cons.price.idx\", \"cons_price_idx\")\n",
    "    .withColumnRenamed(\"cons.conf.idx\", \"cons_conf_idx\")\n",
    "    .withColumnRenamed(\"nr.employed\", \"nr_employed\")\n",
    ")\n",
    "\n",
    "# Danh sách các biến vĩ mô\n",
    "macro_cols = [\"emp_var_rate\", \"cons_price_idx\", \"cons_conf_idx\", \"euribor3m\", \"nr_employed\"]\n",
    "\n",
    "# --- 1️⃣ Thống kê mô tả cơ bản ---\n",
    "print(\"=== 1️⃣ Thống kê mô tả cơ bản ===\")\n",
    "data.select(macro_cols).describe().show(truncate=False)\n",
    "\n",
    "# --- 2️⃣ Tỷ lệ các lớp mục tiêu (y) ---\n",
    "print(\"=== 2️⃣ Tỷ lệ phân bố biến mục tiêu y ===\")\n",
    "total_count = data.count()\n",
    "data.groupBy(\"y\").agg(\n",
    "    count(\"*\").alias(\"count\")\n",
    ").withColumn(\n",
    "    \"percentage\", (col(\"count\") / total_count * 100)\n",
    ").show()\n",
    "\n",
    "# --- 3️⃣ Trung bình các biến vĩ mô theo từng giá trị y ---\n",
    "print(\"=== 3️⃣ Trung bình các biến vĩ mô theo từng giá trị y ===\")\n",
    "agg_exprs = [mean(c).alias(f\"avg_{c}\") for c in macro_cols]\n",
    "data.groupBy(\"y\").agg(*agg_exprs).show(truncate=False)\n",
    "\n",
    "\n"
   ]
  },
  {
   "cell_type": "code",
   "execution_count": 14,
   "id": "76fafa77",
   "metadata": {},
   "outputs": [
    {
     "name": "stdout",
     "output_type": "stream",
     "text": [
      "=== 4️⃣ Ma trận tương quan giữa các biến vĩ mô ===\n",
      "+--------------+-------------------+-------------------+--------------------+-------------------+-------------------+\n",
      "|Feature       |emp_var_rate       |cons_price_idx     |cons_conf_idx       |euribor3m          |nr_employed        |\n",
      "+--------------+-------------------+-------------------+--------------------+-------------------+-------------------+\n",
      "|emp_var_rate  |1.0                |0.775334170834832  |0.19604126813197284 |0.9722446711516147 |0.9069701012560353 |\n",
      "|cons_price_idx|0.775334170834832  |1.0                |0.058986181748833216|0.688230107037495  |0.5220339770130168 |\n",
      "|cons_conf_idx |0.19604126813197287|0.05898618174883324|1.0                 |0.27768621966375506|0.10051343183753894|\n",
      "|euribor3m     |0.9722446711516147 |0.6882301070374951 |0.27768621966375506 |1.0                |0.9451544313982513 |\n",
      "|nr_employed   |0.9069701012560353 |0.5220339770130166 |0.10051343183753896 |0.9451544313982513 |1.0                |\n",
      "+--------------+-------------------+-------------------+--------------------+-------------------+-------------------+\n",
      "\n"
     ]
    }
   ],
   "source": [
    "# --- 4️⃣ Ma trận tương quan giữa các biến vĩ mô ---\n",
    "print(\"=== 4️⃣ Ma trận tương quan giữa các biến vĩ mô ===\")\n",
    "corr_matrix = []\n",
    "for c1 in macro_cols:\n",
    "    row = []\n",
    "    for c2 in macro_cols:\n",
    "        try:\n",
    "            val = data.select(corr(c1, c2).alias(\"corr\")).collect()[0][\"corr\"]\n",
    "        except Exception as e:\n",
    "            val = None\n",
    "        row.append(val)\n",
    "    corr_matrix.append((c1, *row))\n",
    "\n",
    "spark.createDataFrame(corr_matrix, [\"Feature\"] + macro_cols).show(truncate=False)"
   ]
  },
  {
   "cell_type": "markdown",
   "id": "30c17a89",
   "metadata": {},
   "source": [
    "- Nhóm biến emp.var.rate, euribor3m, nr.employed có thể được rút gọn hoặc chọn 1–2 đại diện.\n",
    "\n",
    "- Các biến có tương quan âm với y\n",
    "\n",
    "- Khi các chỉ số kinh tế này tăng (biểu hiện cho tình hình kinh tế tốt hơn), khả năng khách hàng đồng ý gửi tiền (y=1) lại giảm."
   ]
  },
  {
   "cell_type": "markdown",
   "id": "877fcade",
   "metadata": {},
   "source": [
    "| Biến vĩ mô (`feature`) | Ý nghĩa kinh tế                 | Xu hướng khi biến tăng             | Ảnh hưởng đến khả năng gửi tiền (`y=1`) | Mức độ ảnh hưởng  | Ghi chú                                                                    |\n",
    "| ---------------------- | ------------------------------- | ---------------------------------- | --------------------------------------- | ----------------- | -------------------------------------------------------------------------- |\n",
    "| **emp.var.rate**       | Tỷ lệ biến động việc làm        | Kinh tế ổn định hơn, việc làm tăng | 🔻 Giảm khả năng gửi tiền               | **Mạnh (âm)**     | Khi tỷ lệ việc làm cao, người dân chi tiêu nhiều hơn, gửi tiết kiệm ít hơn |\n",
    "| **cons.price.idx**     | Chỉ số giá tiêu dùng (lạm phát) | Lạm phát tăng                      | 🔻 Giảm nhẹ khả năng gửi tiền           | **Yếu (âm)**      | Ảnh hưởng nhỏ, thể hiện qua chênh lệch nhỏ giữa hai nhóm                   |\n",
    "| **cons.conf.idx**      | Niềm tin người tiêu dùng        | Tâm lý tiêu dùng tích cực hơn      | ⚪ Gần như không ảnh hưởng               | **Rất yếu**       | Phân bố hai nhóm gần như trùng nhau                                        |\n",
    "| **euribor3m**          | Lãi suất Euribor 3 tháng        | Lãi suất thị trường tăng           | 🔻 Giảm mạnh khả năng gửi tiền          | **Mạnh (âm)**     | Khi lãi suất cao, khách hàng ưu tiên đầu tư hơn là gửi tiết kiệm           |\n",
    "| **nr.employed**        | Số lượng người có việc làm      | Việc làm nhiều hơn                 | 🔻 Giảm khả năng gửi tiền               | **Khá mạnh (âm)** | Phản ánh mối liên hệ giữa thị trường lao động và hành vi tiết kiệm         |\n"
   ]
  },
  {
   "cell_type": "markdown",
   "id": "7856a8e5",
   "metadata": {},
   "source": [
    "## ⚖️ 3️⃣ XỬ LÝ MẤT CÂN BẰNG DỮ LIỆU\n",
    "Dữ liệu bị **mất cân bằng** khi tỷ lệ khách hàng gửi tiền (`y=1`) rất nhỏ so với `y=0`.  \n",
    "Ta dùng **SMOTE (Synthetic Minority Oversampling Technique)** để tạo thêm mẫu thiểu số nhân tạo.  \n",
    "- Ưu điểm: Giữ lại toàn bộ dữ liệu gốc, tránh mất thông tin.  \n",
    "- Nhược điểm: Có thể tạo nhiễu nếu dữ liệu thiểu số không phân bố tốt.\n"
   ]
  },
  {
   "cell_type": "code",
   "execution_count": 15,
   "id": "7881d6ed",
   "metadata": {},
   "outputs": [
    {
     "name": "stdout",
     "output_type": "stream",
     "text": [
      "+---+-----+\n",
      "|  y|count|\n",
      "+---+-----+\n",
      "| no|36548|\n",
      "|yes| 4640|\n",
      "+---+-----+\n",
      "\n",
      "Dữ liệu sau cân bằng:\n",
      "+---+-----+\n",
      "|  y|count|\n",
      "+---+-----+\n",
      "| no| 4617|\n",
      "|yes| 4640|\n",
      "+---+-----+\n",
      "\n"
     ]
    }
   ],
   "source": [
    "# Kiểm tra tỷ lệ nhãn\n",
    "data.groupBy(\"y\").count().show()\n",
    "\n",
    "# Cân bằng dữ liệu (undersampling)\n",
    "yes_count = data.filter(col(\"y\") == \"yes\").count()\n",
    "no_df = data.filter(col(\"y\") == \"no\").sample(withReplacement=False, fraction=yes_count / data.filter(col(\"y\") == \"no\").count())\n",
    "yes_df = data.filter(col(\"y\") == \"yes\")\n",
    "\n",
    "data_balanced = no_df.union(yes_df)\n",
    "print(\"Dữ liệu sau cân bằng:\")\n",
    "data_balanced.groupBy(\"y\").count().show()\n"
   ]
  },
  {
   "cell_type": "markdown",
   "id": "a97b669d",
   "metadata": {},
   "source": [
    "## 🤖 4️⃣ XÂY DỰNG MÔ HÌNH CƠ BẢN\n",
    "Ta bắt đầu bằng các **mô hình cơ bản** để thiết lập baseline:  \n",
    "1. **Logistic Regression** – đơn giản, dễ giải thích, dùng làm baseline.  \n",
    "2. **Random Forest** – bắt được quan hệ phi tuyến giữa các biến.  \n",
    "3. **Gradient Boosted Trees (GBT)** – học sâu hơn mối quan hệ vĩ mô.  \n",
    "\n",
    "Việc đánh giá dùng **Cross-validation (3-fold)** và chỉ số **Precision, Recall, F1-score**.\n"
   ]
  },
  {
   "cell_type": "code",
   "execution_count": 16,
   "id": "108e945f",
   "metadata": {},
   "outputs": [],
   "source": [
    "from pyspark.ml.feature import VectorAssembler\n",
    "from pyspark.ml.classification import LogisticRegression, RandomForestClassifier, GBTClassifier\n",
    "\n",
    "# Đổi tên để tránh lỗi ký tự \".\"\n",
    "data_balanced = (data_balanced\n",
    "    .withColumnRenamed(\"emp.var.rate\", \"emp_var_rate\")\n",
    "    .withColumnRenamed(\"cons.price.idx\", \"cons_price_idx\")\n",
    "    .withColumnRenamed(\"cons.conf.idx\", \"cons_conf_idx\")\n",
    "    .withColumnRenamed(\"nr.employed\", \"nr_employed\")\n",
    ")\n",
    "\n",
    "# Vector features\n",
    "assembler = VectorAssembler(\n",
    "    inputCols=[\"emp_var_rate\", \"cons_price_idx\", \"cons_conf_idx\", \"euribor3m\", \"nr_employed\"],\n",
    "    outputCol=\"features\"\n",
    ")\n",
    "final_data = assembler.transform(data_balanced).select(\"features\", \"y\")\n",
    "\n",
    "# Encode nhãn (PySpark yêu cầu dạng số)\n",
    "from pyspark.ml.feature import StringIndexer\n",
    "indexer = StringIndexer(inputCol=\"y\", outputCol=\"label\")\n",
    "final_data = indexer.fit(final_data).transform(final_data)\n",
    "\n",
    "train_data, test_data = final_data.randomSplit([0.8, 0.2], seed=42)\n"
   ]
  },
  {
   "cell_type": "code",
   "execution_count": 17,
   "id": "b6ff4de6",
   "metadata": {},
   "outputs": [
    {
     "name": "stdout",
     "output_type": "stream",
     "text": [
      "\n",
      "=== Mô hình: Logistic Regression ===\n",
      "Precision: 0.6939, Recall: 0.7173, F1: 0.7054\n",
      "\n",
      "=== Mô hình: Random Forest ===\n",
      "Precision: 0.6826, Recall: 0.8772, F1: 0.7677\n",
      "\n",
      "=== Mô hình: Gradient Boosted Trees ===\n",
      "Precision: 0.6867, Recall: 0.8227, F1: 0.7486\n"
     ]
    }
   ],
   "source": [
    "from pyspark.ml.evaluation import BinaryClassificationEvaluator\n",
    "from pyspark.sql.functions import sum as _sum\n",
    "\n",
    "models = {\n",
    "    \"Logistic Regression\": LogisticRegression(featuresCol=\"features\", labelCol=\"label\"),\n",
    "    \"Random Forest\": RandomForestClassifier(featuresCol=\"features\", labelCol=\"label\", numTrees=50),\n",
    "    \"Gradient Boosted Trees\": GBTClassifier(featuresCol=\"features\", labelCol=\"label\")\n",
    "}\n",
    "\n",
    "def compute_metrics(df):\n",
    "    TP = df.filter((col(\"label\") == 1) & (col(\"prediction\") == 1)).count()\n",
    "    FP = df.filter((col(\"label\") == 0) & (col(\"prediction\") == 1)).count()\n",
    "    FN = df.filter((col(\"label\") == 1) & (col(\"prediction\") == 0)).count()\n",
    "    TN = df.filter((col(\"label\") == 0) & (col(\"prediction\") == 0)).count()\n",
    "    \n",
    "    precision = TP / (TP + FP) if TP + FP > 0 else 0\n",
    "    recall = TP / (TP + FN) if TP + FN > 0 else 0\n",
    "    f1 = 2 * precision * recall / (precision + recall) if precision + recall > 0 else 0\n",
    "    return precision, recall, f1\n",
    "\n",
    "results = []\n",
    "\n",
    "for name, model in models.items():\n",
    "    print(f\"\\n=== Mô hình: {name} ===\")\n",
    "    model_fit = model.fit(train_data)\n",
    "    pred = model_fit.transform(test_data)\n",
    "    \n",
    "    precision, recall, f1 = compute_metrics(pred)\n",
    "    print(f\"Precision: {precision:.4f}, Recall: {recall:.4f}, F1: {f1:.4f}\")\n",
    "    \n",
    "    results.append((name, precision, recall, f1))\n"
   ]
  },
  {
   "cell_type": "markdown",
   "id": "aa977d6d",
   "metadata": {},
   "source": [
    "## 📊 5️⃣ KẾT QUẢ ĐÁNH GIÁ\n"
   ]
  },
  {
   "cell_type": "code",
   "execution_count": 18,
   "id": "3c542bb0",
   "metadata": {},
   "outputs": [
    {
     "name": "stdout",
     "output_type": "stream",
     "text": [
      "\n",
      "=== Độ quan trọng (Logistic Regression) ===\n",
      "emp_var_rate        : 0.352835\n",
      "cons_price_idx      : 0.367986\n",
      "cons_conf_idx       : 0.022573\n",
      "euribor3m           : 0.077800\n",
      "nr_employed         : 0.008766\n",
      "\n",
      "=== Độ quan trọng (Random Forest) ===\n",
      "emp_var_rate        : 0.274023\n",
      "cons_price_idx      : 0.016082\n",
      "cons_conf_idx       : 0.064559\n",
      "euribor3m           : 0.119589\n",
      "nr_employed         : 0.525747\n",
      "\n",
      "=== Độ quan trọng (Gradient Boosted Trees) ===\n",
      "emp_var_rate        : 0.126242\n",
      "cons_price_idx      : 0.086248\n",
      "cons_conf_idx       : 0.061508\n",
      "euribor3m           : 0.149200\n",
      "nr_employed         : 0.576801\n",
      "\n",
      "=== Tổng kết biến quan trọng nhất ===\n",
      "Mô hình                        Biến quan trọng nhất         Giá trị\n",
      "Logistic Regression            cons_price_idx              0.367986\n",
      "Random Forest                  nr_employed                 0.525747\n",
      "Gradient Boosted Trees         nr_employed                 0.576801\n"
     ]
    }
   ],
   "source": [
    "feature_cols = [\"emp_var_rate\", \"cons_price_idx\", \"cons_conf_idx\", \"euribor3m\", \"nr_employed\"]\n",
    "importance_summary = []\n",
    "\n",
    "for name, model in models.items():\n",
    "    fitted = model.fit(train_data)\n",
    "    if hasattr(fitted, \"featureImportances\"):\n",
    "        importances = list(fitted.featureImportances)\n",
    "    elif hasattr(fitted, \"coefficients\"):\n",
    "        importances = [abs(x) for x in fitted.coefficients]\n",
    "    else:\n",
    "        importances = [0.0]*len(feature_cols)\n",
    "    \n",
    "    pairs = list(zip(feature_cols, importances))\n",
    "    print(f\"\\n=== Độ quan trọng ({name}) ===\")\n",
    "    for col_name, imp in pairs:\n",
    "        print(f\"{col_name:<20}: {imp:.6f}\")\n",
    "    \n",
    "    max_idx = importances.index(max(importances, key=abs))\n",
    "    importance_summary.append((name, feature_cols[max_idx], importances[max_idx]))\n",
    "\n",
    "# Tổng kết\n",
    "print(\"\\n=== Tổng kết biến quan trọng nhất ===\")\n",
    "print(f\"{'Mô hình':<30} {'Biến quan trọng nhất':<25} {'Giá trị':>10}\")\n",
    "for row in importance_summary:\n",
    "    print(f\"{row[0]:<30} {row[1]:<25} {row[2]:>10.6f}\")\n"
   ]
  }
 ],
 "metadata": {
  "kernelspec": {
   "display_name": "Python 3",
   "language": "python",
   "name": "python3"
  },
  "language_info": {
   "codemirror_mode": {
    "name": "ipython",
    "version": 3
   },
   "file_extension": ".py",
   "mimetype": "text/x-python",
   "name": "python",
   "nbconvert_exporter": "python",
   "pygments_lexer": "ipython3",
   "version": "3.9.8"
  }
 },
 "nbformat": 4,
 "nbformat_minor": 5
}

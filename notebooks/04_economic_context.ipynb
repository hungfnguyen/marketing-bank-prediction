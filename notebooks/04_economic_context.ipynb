{
 "cells": [
  {
   "cell_type": "markdown",
   "id": "48862ac5",
   "metadata": {},
   "source": [
    "# 🧠  Economic Context & Synthesis (EDA + Modeling)\n",
    "## 🎯 Mục tiêu\n",
    "Phân tích các **biến kinh tế vĩ mô** ảnh hưởng đến việc **khách hàng có gửi tiền (y)** hay không.  \n",
    "Sau đó, xây dựng các mô hình dự đoán với **PySpark**, xử lý dữ liệu **mất cân bằng** bằng **SMOTE**,  và đánh giá mô hình bằng **Cross-validation**.\n"
   ]
  },
  {
   "cell_type": "code",
   "execution_count": 43,
   "id": "39183a0e",
   "metadata": {},
   "outputs": [
    {
     "name": "stdout",
     "output_type": "stream",
     "text": [
      "Số dòng: 41188\n",
      "root\n",
      " |-- age: integer (nullable = true)\n",
      " |-- job: string (nullable = true)\n",
      " |-- marital: string (nullable = true)\n",
      " |-- education: string (nullable = true)\n",
      " |-- default: string (nullable = true)\n",
      " |-- housing: string (nullable = true)\n",
      " |-- loan: string (nullable = true)\n",
      " |-- contact: string (nullable = true)\n",
      " |-- month: string (nullable = true)\n",
      " |-- day_of_week: string (nullable = true)\n",
      " |-- duration: integer (nullable = true)\n",
      " |-- campaign: integer (nullable = true)\n",
      " |-- pdays: integer (nullable = true)\n",
      " |-- previous: integer (nullable = true)\n",
      " |-- poutcome: string (nullable = true)\n",
      " |-- emp.var.rate: double (nullable = true)\n",
      " |-- cons.price.idx: double (nullable = true)\n",
      " |-- cons.conf.idx: double (nullable = true)\n",
      " |-- euribor3m: double (nullable = true)\n",
      " |-- nr.employed: double (nullable = true)\n",
      " |-- y: string (nullable = true)\n",
      "\n"
     ]
    }
   ],
   "source": [
    "# Import các thư viện cần thiết\n",
    "from pyspark.sql import SparkSession\n",
    "from pyspark.sql.functions import col\n",
    "from pyspark.ml.feature import VectorAssembler\n",
    "from pyspark.ml.classification import LogisticRegression, RandomForestClassifier, GBTClassifier\n",
    "from pyspark.ml.evaluation import MulticlassClassificationEvaluator\n",
    "from pyspark.ml.tuning import CrossValidator, ParamGridBuilder\n",
    "\n",
    "\n",
    "\n",
    "# Tạo SparkSession\n",
    "spark = SparkSession.builder.appName(\"Hao_Economic_Context_Synthesis\").getOrCreate()\n",
    "\n",
    "# Đọc dữ liệu\n",
    "data = spark.read.csv(\"../data/bank-additional/bank-additional-full.csv\", header=True, sep=';', inferSchema=True)\n",
    "print(\"Số dòng:\", data.count())\n",
    "data.printSchema()\n"
   ]
  },
  {
   "cell_type": "code",
   "execution_count": 44,
   "id": "429271b4",
   "metadata": {},
   "outputs": [
    {
     "name": "stdout",
     "output_type": "stream",
     "text": [
      "+---+---------+-------+-----------+-------+-------+----+---------+-----+-----------+--------+--------+-----+--------+-----------+------------+--------------+-------------+---------+-----------+---+\n",
      "|age|      job|marital|  education|default|housing|loan|  contact|month|day_of_week|duration|campaign|pdays|previous|   poutcome|emp.var.rate|cons.price.idx|cons.conf.idx|euribor3m|nr.employed|  y|\n",
      "+---+---------+-------+-----------+-------+-------+----+---------+-----+-----------+--------+--------+-----+--------+-----------+------------+--------------+-------------+---------+-----------+---+\n",
      "| 56|housemaid|married|   basic.4y|     no|     no|  no|telephone|  may|        mon|     261|       1|  999|       0|nonexistent|         1.1|        93.994|        -36.4|    4.857|     5191.0| no|\n",
      "| 57| services|married|high.school|unknown|     no|  no|telephone|  may|        mon|     149|       1|  999|       0|nonexistent|         1.1|        93.994|        -36.4|    4.857|     5191.0| no|\n",
      "| 37| services|married|high.school|     no|    yes|  no|telephone|  may|        mon|     226|       1|  999|       0|nonexistent|         1.1|        93.994|        -36.4|    4.857|     5191.0| no|\n",
      "| 40|   admin.|married|   basic.6y|     no|     no|  no|telephone|  may|        mon|     151|       1|  999|       0|nonexistent|         1.1|        93.994|        -36.4|    4.857|     5191.0| no|\n",
      "| 56| services|married|high.school|     no|     no| yes|telephone|  may|        mon|     307|       1|  999|       0|nonexistent|         1.1|        93.994|        -36.4|    4.857|     5191.0| no|\n",
      "+---+---------+-------+-----------+-------+-------+----+---------+-----+-----------+--------+--------+-----+--------+-----------+------------+--------------+-------------+---------+-----------+---+\n",
      "only showing top 5 rows\n",
      "\n"
     ]
    }
   ],
   "source": [
    "data.show(5)"
   ]
  },
  {
   "cell_type": "markdown",
   "id": "b09d3da1",
   "metadata": {},
   "source": [
    "## 🔍 2️⃣ EDA - Phân tích ảnh hưởng của các biến kinh tế vĩ mô\n",
    "Ở đây ta tập trung vào 5 biến vĩ mô:\n",
    "- `emp.var.rate` – tỷ lệ biến động việc làm  \n",
    "- `cons.price.idx` – chỉ số giá tiêu dùng  \n",
    "- `cons.conf.idx` – chỉ số niềm tin người tiêu dùng  \n",
    "- `euribor3m` – lãi suất EURIBOR 3 tháng  \n",
    "- `nr.employed` – số người có việc làm  \n",
    "\n",
    "Ta sẽ xem xét **phân phối**, **tương quan** và **ảnh hưởng** của chúng tới biến mục tiêu `y`.\n"
   ]
  },
  {
   "cell_type": "code",
   "execution_count": 45,
   "id": "6d356058",
   "metadata": {},
   "outputs": [],
   "source": [
    "# Đổi tên cột để tránh lỗi có dấu chấm\n",
    "data = (data\n",
    "    .withColumnRenamed(\"emp.var.rate\", \"emp_var_rate\")\n",
    "    .withColumnRenamed(\"cons.price.idx\", \"cons_price_idx\")\n",
    "    .withColumnRenamed(\"cons.conf.idx\", \"cons_conf_idx\")\n",
    "    .withColumnRenamed(\"nr.employed\", \"nr_employed\")\n",
    ")\n",
    "\n",
    "macro_cols = [\"emp_var_rate\", \"cons_price_idx\", \"cons_conf_idx\", \"euribor3m\", \"nr_employed\"]"
   ]
  },
  {
   "cell_type": "code",
   "execution_count": 46,
   "id": "58b660bc",
   "metadata": {},
   "outputs": [
    {
     "name": "stdout",
     "output_type": "stream",
     "text": [
      "=== 1️⃣ Thống kê mô tả cơ bản ===\n",
      "+-------+-------------------+------------------+------------------+------------------+-----------------+\n",
      "|summary|emp_var_rate       |cons_price_idx    |cons_conf_idx     |euribor3m         |nr_employed      |\n",
      "+-------+-------------------+------------------+------------------+------------------+-----------------+\n",
      "|count  |41188              |41188             |41188             |41188             |41188            |\n",
      "|mean   |0.08188550063178392|93.57566436828918 |-40.50260027191787|3.6212908128585366|5167.035910944004|\n",
      "|stddev |1.57095974051703   |0.5788400489541355|4.628197856174595 |1.7344474048512557|72.25152766825924|\n",
      "|min    |-3.4               |92.201            |-50.8             |0.634             |4963.6           |\n",
      "|max    |1.4                |94.767            |-26.9             |5.045             |5228.1           |\n",
      "+-------+-------------------+------------------+------------------+------------------+-----------------+\n",
      "\n",
      "=== 2️⃣ Tỷ lệ phân bố biến mục tiêu y ===\n",
      "+---+-----+------------------+\n",
      "|  y|count|        percentage|\n",
      "+---+-----+------------------+\n",
      "| no|36548| 88.73458288821988|\n",
      "|yes| 4640|11.265417111780131|\n",
      "+---+-----+------------------+\n",
      "\n",
      "=== 3️⃣ Trung bình các biến vĩ mô theo từng giá trị y ===\n",
      "+---+-------------------+------------------+-------------------+------------------+-----------------+\n",
      "|y  |avg_emp_var_rate   |avg_cons_price_idx|avg_cons_conf_idx  |avg_euribor3m     |avg_nr_employed  |\n",
      "+---+-------------------+------------------+-------------------+------------------+-----------------+\n",
      "|no |0.2488754514616543 |93.60375705922988 |-40.59309674947398 |3.8114911623072874|5176.166600086014|\n",
      "|yes|-1.2334482758620804|93.3543859913799  |-39.789784482759686|2.1231351293103327|5095.115991379181|\n",
      "+---+-------------------+------------------+-------------------+------------------+-----------------+\n",
      "\n"
     ]
    }
   ],
   "source": [
    "from pyspark.sql.functions import col, mean, stddev, min as _min, max as _max, count, corr\n",
    "from pyspark.sql.types import FloatType\n",
    "# === ĐỔI TÊN CỘT CHO HỢP LỆ (nếu chưa làm) ===\n",
    "data = (data\n",
    "    .withColumnRenamed(\"emp.var.rate\", \"emp_var_rate\")\n",
    "    .withColumnRenamed(\"cons.price.idx\", \"cons_price_idx\")\n",
    "    .withColumnRenamed(\"cons.conf.idx\", \"cons_conf_idx\")\n",
    "    .withColumnRenamed(\"nr.employed\", \"nr_employed\")\n",
    ")\n",
    "\n",
    "# Danh sách các biến vĩ mô\n",
    "macro_cols = [\"emp_var_rate\", \"cons_price_idx\", \"cons_conf_idx\", \"euribor3m\", \"nr_employed\"]\n",
    "\n",
    "# --- 1️⃣ Thống kê mô tả cơ bản ---\n",
    "print(\"=== 1️⃣ Thống kê mô tả cơ bản ===\")\n",
    "data.select(macro_cols).describe().show(truncate=False)\n",
    "\n",
    "# --- 2️⃣ Tỷ lệ các lớp mục tiêu (y) ---\n",
    "print(\"=== 2️⃣ Tỷ lệ phân bố biến mục tiêu y ===\")\n",
    "total_count = data.count()\n",
    "data.groupBy(\"y\").agg(\n",
    "    count(\"*\").alias(\"count\")\n",
    ").withColumn(\n",
    "    \"percentage\", (col(\"count\") / total_count * 100)\n",
    ").show()\n",
    "\n",
    "# --- 3️⃣ Trung bình các biến vĩ mô theo từng giá trị y ---\n",
    "print(\"=== 3️⃣ Trung bình các biến vĩ mô theo từng giá trị y ===\")\n",
    "agg_exprs = [mean(c).alias(f\"avg_{c}\") for c in macro_cols]\n",
    "data.groupBy(\"y\").agg(*agg_exprs).show(truncate=False)\n",
    "\n",
    "\n"
   ]
  },
  {
   "cell_type": "code",
   "execution_count": 47,
   "id": "76fafa77",
   "metadata": {},
   "outputs": [
    {
     "name": "stdout",
     "output_type": "stream",
     "text": [
      "=== 4️⃣ Ma trận tương quan giữa các biến vĩ mô và output ===\n",
      "+--------------+-------------------+--------------------+--------------------+--------------------+-------------------+--------------------+\n",
      "|Feature       |emp_var_rate       |cons_price_idx      |cons_conf_idx       |euribor3m           |nr_employed        |y_num               |\n",
      "+--------------+-------------------+--------------------+--------------------+--------------------+-------------------+--------------------+\n",
      "|emp_var_rate  |1.0                |0.775334170834832   |0.19604126813197284 |0.9722446711516147  |0.9069701012560353 |-0.29833442615937794|\n",
      "|cons_price_idx|0.775334170834832  |1.0                 |0.058986181748833216|0.688230107037495   |0.5220339770130168 |-0.1362112128191817 |\n",
      "|cons_conf_idx |0.19604126813197287|0.05898618174883324 |1.0                 |0.27768621966375506 |0.10051343183753894|0.05487794605319229 |\n",
      "|euribor3m     |0.9722446711516147 |0.6882301070374951  |0.27768621966375506 |1.0                 |0.9451544313982513 |-0.30777140394071995|\n",
      "|nr_employed   |0.9069701012560353 |0.5220339770130166  |0.10051343183753896 |0.9451544313982513  |1.0                |-0.3546782959214352 |\n",
      "|y_num         |-0.2983344261593779|-0.13621121281918172|0.054877946053192316|-0.30777140394071995|-0.3546782959214352|1.0                 |\n",
      "+--------------+-------------------+--------------------+--------------------+--------------------+-------------------+--------------------+\n",
      "\n"
     ]
    }
   ],
   "source": [
    "from pyspark.sql.functions import corr, when, col\n",
    "import math\n",
    "\n",
    "data = data.withColumn(\"y_num\", when(col(\"y\") == \"yes\", 1.0).when(col(\"y\") == \"no\", 0.0).otherwise(col(\"y\").cast(\"double\")))\n",
    "\n",
    "# --- 4️⃣ Ma trận tương quan giữa các biến vĩ mô và output ---\n",
    "print(\"=== 4️⃣ Ma trận tương quan giữa các biến vĩ mô và output ===\")\n",
    "\n",
    "# Thêm biến y vào danh sách\n",
    "all_cols = macro_cols + [\"y_num\"]\n",
    "\n",
    "corr_matrix = []\n",
    "for c1 in all_cols:\n",
    "    row = []\n",
    "    for c2 in all_cols:\n",
    "        try:\n",
    "            val = data.select(corr(c1, c2).alias(\"corr\")).collect()[0][\"corr\"]\n",
    "            if val is None or math.isnan(val):\n",
    "                val = 0.0\n",
    "        except Exception:\n",
    "            val = 0.0\n",
    "        row.append(float(val))\n",
    "    corr_matrix.append((c1, *row))\n",
    "\n",
    "# Tạo DataFrame hiển thị ma trận tương quan\n",
    "columns = [\"Feature\"] + all_cols\n",
    "corr_df = spark.createDataFrame(corr_matrix, columns)\n",
    "\n",
    "corr_df.show(truncate=False)\n"
   ]
  },
  {
   "cell_type": "markdown",
   "id": "30c17a89",
   "metadata": {},
   "source": [
    "- Nhóm biến emp.var.rate, euribor3m, nr.employed có thể được rút gọn hoặc chọn 1–2 đại diện.\n",
    "\n",
    "- Các biến có tương quan âm với y\n",
    "\n",
    "- Khi các chỉ số kinh tế này tăng (biểu hiện cho tình hình kinh tế tốt hơn), khả năng khách hàng đồng ý gửi tiền (y=1) lại giảm."
   ]
  },
  {
   "cell_type": "markdown",
   "id": "877fcade",
   "metadata": {},
   "source": [
    "| Biến vĩ mô (`feature`) | Ý nghĩa kinh tế                 | Xu hướng khi biến tăng             | Ảnh hưởng đến khả năng gửi tiền (`y=1`) | Mức độ ảnh hưởng  | Ghi chú                                                                    |\n",
    "| ---------------------- | ------------------------------- | ---------------------------------- | --------------------------------------- | ----------------- | -------------------------------------------------------------------------- |\n",
    "| **emp.var.rate**       | Tỷ lệ biến động việc làm        | Kinh tế ổn định hơn, việc làm tăng | 🔻 Giảm khả năng gửi tiền               | **Mạnh (âm)**     | Khi tỷ lệ việc làm cao, người dân chi tiêu nhiều hơn, gửi tiết kiệm ít hơn |\n",
    "| **cons.price.idx**     | Chỉ số giá tiêu dùng (lạm phát) | Lạm phát tăng                      | 🔻 Giảm nhẹ khả năng gửi tiền           | **Yếu (âm)**      | Ảnh hưởng nhỏ, thể hiện qua chênh lệch nhỏ giữa hai nhóm                   |\n",
    "| **cons.conf.idx**      | Niềm tin người tiêu dùng        | Tâm lý tiêu dùng tích cực hơn      | ⚪ Gần như không ảnh hưởng               | **Rất yếu**       | Phân bố hai nhóm gần như trùng nhau                                        |\n",
    "| **euribor3m**          | Lãi suất Euribor 3 tháng        | Lãi suất thị trường tăng           | 🔻 Giảm mạnh khả năng gửi tiền          | **Mạnh (âm)**     | Khi lãi suất cao, khách hàng ưu tiên đầu tư hơn là gửi tiết kiệm           |\n",
    "| **nr.employed**        | Số lượng người có việc làm      | Việc làm nhiều hơn                 | 🔻 Giảm khả năng gửi tiền               | **Khá mạnh (âm)** | Phản ánh mối liên hệ giữa thị trường lao động và hành vi tiết kiệm         |\n"
   ]
  },
  {
   "cell_type": "markdown",
   "id": "7856a8e5",
   "metadata": {},
   "source": [
    "## ⚖️ 3️⃣ XỬ LÝ MẤT CÂN BẰNG DỮ LIỆU\n",
    "Dữ liệu bị **mất cân bằng** khi tỷ lệ khách hàng gửi tiền (`y=1`) rất nhỏ so với `y=0`.  \n",
    "Ta dùng **SMOTE (Synthetic Minority Oversampling Technique)** để tạo thêm mẫu thiểu số nhân tạo.  \n",
    "- Ưu điểm: Giữ lại toàn bộ dữ liệu gốc, tránh mất thông tin.  \n",
    "- Nhược điểm: Có thể tạo nhiễu nếu dữ liệu thiểu số không phân bố tốt.\n"
   ]
  },
  {
   "cell_type": "code",
   "execution_count": 52,
   "id": "7881d6ed",
   "metadata": {},
   "outputs": [
    {
     "name": "stdout",
     "output_type": "stream",
     "text": [
      "=== Tỷ lệ nhãn ban đầu ===\n",
      "+---+-----+\n",
      "|  y|count|\n",
      "+---+-----+\n",
      "| no|36548|\n",
      "|yes| 4640|\n",
      "+---+-----+\n",
      "\n",
      "Số lượng ban đầu -> YES: 4640, NO: 36548\n",
      "=== Dữ liệu sau oversampling (SMOTE thủ công) ===\n",
      "+---+-----+---------+\n",
      "|  y|count|tỷ lệ (%)|\n",
      "+---+-----+---------+\n",
      "| no|36548|     50.0|\n",
      "|yes|36548|     50.0|\n",
      "+---+-----+---------+\n",
      "\n"
     ]
    }
   ],
   "source": [
    "from pyspark.sql import functions as F, Row, SparkSession\n",
    "from pyspark.sql.types import DoubleType, StructType, StructField, IntegerType\n",
    "from pyspark.sql.functions import col\n",
    "import random\n",
    "\n",
    "# --- 1️⃣ Kiểm tra tỷ lệ nhãn ---\n",
    "print(\"=== Tỷ lệ nhãn ban đầu ===\")\n",
    "data.groupBy(\"y\").count().show()\n",
    "\n",
    "# --- 2️⃣ Phân tách dữ liệu ---\n",
    "yes_df = data.filter(col(\"y\") == \"yes\")\n",
    "no_df  = data.filter(col(\"y\") == \"no\")\n",
    "\n",
    "yes_count = yes_df.count()\n",
    "no_count  = no_df.count()\n",
    "\n",
    "print(f\"Số lượng ban đầu -> YES: {yes_count}, NO: {no_count}\")\n",
    "\n",
    "# --- 3️⃣ Nếu mất cân bằng, thực hiện oversampling ---\n",
    "if yes_count < no_count:\n",
    "    diff = no_count - yes_count\n",
    "    yes_rows = yes_df.collect()\n",
    "    new_rows = []\n",
    "\n",
    "    for i in range(diff):\n",
    "        r1, r2 = random.sample(yes_rows, 2)\n",
    "        new_data = {}\n",
    "        for c in data.columns:\n",
    "            if c == \"y\":\n",
    "                new_data[c] = \"yes\"\n",
    "            else:\n",
    "                try:\n",
    "                    v1 = float(r1[c])\n",
    "                    v2 = float(r2[c])\n",
    "                    alpha = random.random()\n",
    "                    new_data[c] = v1 + alpha * (v2 - v1)\n",
    "                except Exception:\n",
    "                    new_data[c] = r1[c]\n",
    "        new_rows.append(Row(**new_data))\n",
    "\n",
    "    # --- 🔧 Chuyển schema để chấp nhận DoubleType ---\n",
    "    new_schema = StructType([\n",
    "        StructField(f.name,\n",
    "                    DoubleType() if isinstance(f.dataType, IntegerType) else f.dataType)\n",
    "        for f in data.schema\n",
    "    ])\n",
    "\n",
    "    new_df = spark.createDataFrame(new_rows, schema=new_schema)\n",
    "\n",
    "    # --- 🔧 Union theo tên cột (tự ép kiểu tương thích) ---\n",
    "    data_balanced = data.unionByName(new_df)\n",
    "else:\n",
    "    data_balanced = data\n",
    "\n",
    "# --- 4️⃣ Kiểm tra kết quả sau cân bằng ---\n",
    "print(\"=== Dữ liệu sau oversampling (SMOTE thủ công) ===\")\n",
    "data_balanced.groupBy(\"y\").count().withColumn(\n",
    "    \"tỷ lệ (%)\", F.round(col(\"count\") / data_balanced.count() * 100, 2)\n",
    ").show()\n"
   ]
  },
  {
   "cell_type": "markdown",
   "id": "a97b669d",
   "metadata": {},
   "source": [
    "## 🤖 4️⃣ XÂY DỰNG MÔ HÌNH CƠ BẢN\n",
    "Ta bắt đầu bằng các **mô hình cơ bản** để thiết lập baseline:  \n",
    "1. **Logistic Regression** – đơn giản, dễ giải thích, dùng làm baseline.  \n",
    "2. **Random Forest** – bắt được quan hệ phi tuyến giữa các biến.  \n",
    "3. **Gradient Boosted Trees (GBT)** – học sâu hơn mối quan hệ vĩ mô.  \n",
    "\n",
    "Việc đánh giá dùng chỉ số **Accuracy, Precision, Recall, F1-score**.\n"
   ]
  },
  {
   "cell_type": "code",
   "execution_count": 53,
   "id": "108e945f",
   "metadata": {},
   "outputs": [],
   "source": [
    "from pyspark.ml.feature import VectorAssembler\n",
    "from pyspark.ml.classification import LogisticRegression, RandomForestClassifier, GBTClassifier\n",
    "\n",
    "# Đổi tên để tránh lỗi ký tự \".\"\n",
    "data_balanced = (data_balanced\n",
    "    .withColumnRenamed(\"emp.var.rate\", \"emp_var_rate\")\n",
    "    .withColumnRenamed(\"cons.price.idx\", \"cons_price_idx\")\n",
    "    .withColumnRenamed(\"cons.conf.idx\", \"cons_conf_idx\")\n",
    "    .withColumnRenamed(\"nr.employed\", \"nr_employed\")\n",
    ")\n",
    "\n",
    "# Vector features\n",
    "assembler = VectorAssembler(\n",
    "    inputCols=[\"emp_var_rate\", \"cons_price_idx\", \"cons_conf_idx\", \"euribor3m\", \"nr_employed\"],\n",
    "    outputCol=\"features\"\n",
    ")\n",
    "final_data = assembler.transform(data_balanced).select(\"features\", \"y\")\n",
    "\n",
    "# Encode nhãn (PySpark yêu cầu dạng số)\n",
    "from pyspark.ml.feature import StringIndexer\n",
    "indexer = StringIndexer(inputCol=\"y\", outputCol=\"label\")\n",
    "final_data = indexer.fit(final_data).transform(final_data)\n",
    "\n",
    "train_data, test_data = final_data.randomSplit([0.8, 0.2], seed=42)\n"
   ]
  },
  {
   "cell_type": "code",
   "execution_count": 54,
   "id": "b6ff4de6",
   "metadata": {},
   "outputs": [
    {
     "name": "stdout",
     "output_type": "stream",
     "text": [
      "\n",
      "=== Mô hình: Logistic Regression ===\n",
      "\n",
      "Confusion Matrix (Logistic Regression):\n",
      "                 Pred=0     Pred=1\n",
      "Actual=0     |     5275   |     2010\n",
      "Actual=1     |     1894   |     5277\n",
      "\n",
      "Precision: 0.7242, Recall: 0.7359, F1: 0.7300, Accuracy: 0.7299\n",
      "\n",
      "=== Mô hình: Random Forest ===\n",
      "\n",
      "Confusion Matrix (Random Forest):\n",
      "                 Pred=0     Pred=1\n",
      "Actual=0     |     6691   |      594\n",
      "Actual=1     |      849   |     6322\n",
      "\n",
      "Precision: 0.9141, Recall: 0.8816, F1: 0.8976, Accuracy: 0.9002\n",
      "\n",
      "=== Mô hình: Gradient Boosted Trees ===\n",
      "\n",
      "Confusion Matrix (Gradient Boosted Trees):\n",
      "                 Pred=0     Pred=1\n",
      "Actual=0     |     6691   |      594\n",
      "Actual=1     |      722   |     6449\n",
      "\n",
      "Precision: 0.9157, Recall: 0.8993, F1: 0.9074, Accuracy: 0.9090\n"
     ]
    }
   ],
   "source": [
    "from pyspark.ml.classification import LogisticRegression, RandomForestClassifier, GBTClassifier\n",
    "from pyspark.sql.functions import col\n",
    "\n",
    "# --- Khởi tạo mô hình ---\n",
    "models = {\n",
    "    \"Logistic Regression\": LogisticRegression(featuresCol=\"features\", labelCol=\"label\"),\n",
    "    \"Random Forest\": RandomForestClassifier(featuresCol=\"features\", labelCol=\"label\", numTrees=50),\n",
    "    \"Gradient Boosted Trees\": GBTClassifier(featuresCol=\"features\", labelCol=\"label\")\n",
    "}\n",
    "\n",
    "# --- Hàm tự tính các chỉ số ---\n",
    "def compute_metrics(df):\n",
    "    TP = df.filter((col(\"label\") == 1) & (col(\"prediction\") == 1)).count()\n",
    "    FP = df.filter((col(\"label\") == 0) & (col(\"prediction\") == 1)).count()\n",
    "    FN = df.filter((col(\"label\") == 1) & (col(\"prediction\") == 0)).count()\n",
    "    TN = df.filter((col(\"label\") == 0) & (col(\"prediction\") == 0)).count()\n",
    "    \n",
    "    precision = TP / (TP + FP) if TP + FP > 0 else 0\n",
    "    recall = TP / (TP + FN) if TP + FN > 0 else 0\n",
    "    f1 = 2 * precision * recall / (precision + recall) if precision + recall > 0 else 0\n",
    "    accuracy = (TP + TN) / (TP + TN + FP + FN) if (TP + TN + FP + FN) > 0 else 0\n",
    "    \n",
    "    return precision, recall, f1, accuracy, TP, FP, FN, TN\n",
    "\n",
    "# --- Huấn luyện & đánh giá ---\n",
    "results = []\n",
    "\n",
    "for name, model in models.items():\n",
    "    print(f\"\\n=== Mô hình: {name} ===\")\n",
    "    model_fit = model.fit(train_data)\n",
    "    pred = model_fit.transform(test_data)\n",
    "    \n",
    "    precision, recall, f1, accuracy, TP, FP, FN, TN = compute_metrics(pred)\n",
    "\n",
    "    # --- Hiển thị Confusion Matrix dạng bảng ---\n",
    "    print(f\"\\nConfusion Matrix ({name}):\")\n",
    "    print(\"                 Pred=0     Pred=1\")\n",
    "    print(f\"Actual=0     |   {TN:6d}   |   {FP:6d}\")\n",
    "    print(f\"Actual=1     |   {FN:6d}   |   {TP:6d}\")\n",
    "\n",
    "    print(f\"\\nPrecision: {precision:.4f}, Recall: {recall:.4f}, F1: {f1:.4f}, Accuracy: {accuracy:.4f}\")\n",
    "    \n",
    "    results.append((name, precision, recall, f1, accuracy, TP, FP, FN, TN))\n",
    "\n",
    "\n"
   ]
  },
  {
   "cell_type": "code",
   "execution_count": 55,
   "id": "9a58be6c",
   "metadata": {},
   "outputs": [
    {
     "name": "stdout",
     "output_type": "stream",
     "text": [
      "\n",
      "=== Tổng hợp kết quả ===\n",
      "+----------------------+------------------+------------------+------------------+------------------+----+----+----+----+\n",
      "|Model                 |Precision         |Recall            |F1                |Accuracy          |TP  |FP  |FN  |TN  |\n",
      "+----------------------+------------------+------------------+------------------+------------------+----+----+----+----+\n",
      "|Logistic Regression   |0.7241663235899547|0.7358806303165528|0.7299764836076912|0.7299391256225789|5277|2010|1894|5275|\n",
      "|Random Forest         |0.9141122035858879|0.8816064705062056|0.897565130971818 |0.9001798561151079|6322|594 |849 |6691|\n",
      "|Gradient Boosted Trees|0.9156609399403663|0.8993166922326036|0.9074152244266218|0.9089651355838406|6449|594 |722 |6691|\n",
      "+----------------------+------------------+------------------+------------------+------------------+----+----+----+----+\n",
      "\n"
     ]
    }
   ],
   "source": [
    "# --- Tạo bảng tổng hợp ---\n",
    "print(\"\\n=== Tổng hợp kết quả ===\")\n",
    "summary_df = spark.createDataFrame(\n",
    "    results, \n",
    "    [\"Model\", \"Precision\", \"Recall\", \"F1\", \"Accuracy\", \"TP\", \"FP\", \"FN\", \"TN\"]\n",
    ")\n",
    "summary_df.show(truncate=False)"
   ]
  },
  {
   "cell_type": "markdown",
   "id": "aa977d6d",
   "metadata": {},
   "source": [
    "## 📊 5️⃣ KẾT QUẢ ĐÁNH GIÁ\n"
   ]
  },
  {
   "cell_type": "code",
   "execution_count": 56,
   "id": "3c542bb0",
   "metadata": {},
   "outputs": [
    {
     "name": "stdout",
     "output_type": "stream",
     "text": [
      "\n",
      "=== Độ quan trọng (Logistic Regression) ===\n",
      "emp_var_rate        : 0.273858\n",
      "cons_price_idx      : 0.532919\n",
      "cons_conf_idx       : 0.061193\n",
      "euribor3m           : 0.216819\n",
      "nr_employed         : 0.008131\n",
      "\n",
      "=== Độ quan trọng (Random Forest) ===\n",
      "emp_var_rate        : 0.076077\n",
      "cons_price_idx      : 0.046925\n",
      "cons_conf_idx       : 0.256145\n",
      "euribor3m           : 0.237378\n",
      "nr_employed         : 0.383475\n",
      "\n",
      "=== Độ quan trọng (Gradient Boosted Trees) ===\n",
      "emp_var_rate        : 0.239829\n",
      "cons_price_idx      : 0.125229\n",
      "cons_conf_idx       : 0.293558\n",
      "euribor3m           : 0.073672\n",
      "nr_employed         : 0.267712\n",
      "\n",
      "=== Tổng kết biến quan trọng nhất ===\n",
      "Mô hình                        Biến quan trọng nhất         Giá trị\n",
      "Logistic Regression            cons_price_idx              0.532919\n",
      "Random Forest                  nr_employed                 0.383475\n",
      "Gradient Boosted Trees         cons_conf_idx               0.293558\n"
     ]
    }
   ],
   "source": [
    "feature_cols = [\"emp_var_rate\", \"cons_price_idx\", \"cons_conf_idx\", \"euribor3m\", \"nr_employed\"]\n",
    "importance_summary = []\n",
    "\n",
    "for name, model in models.items():\n",
    "    fitted = model.fit(train_data)\n",
    "    if hasattr(fitted, \"featureImportances\"):\n",
    "        importances = list(fitted.featureImportances)\n",
    "    elif hasattr(fitted, \"coefficients\"):\n",
    "        importances = [abs(x) for x in fitted.coefficients]\n",
    "    else:\n",
    "        importances = [0.0]*len(feature_cols)\n",
    "    \n",
    "    pairs = list(zip(feature_cols, importances))\n",
    "    print(f\"\\n=== Độ quan trọng ({name}) ===\")\n",
    "    for col_name, imp in pairs:\n",
    "        print(f\"{col_name:<20}: {imp:.6f}\")\n",
    "    \n",
    "    max_idx = importances.index(max(importances, key=abs))\n",
    "    importance_summary.append((name, feature_cols[max_idx], importances[max_idx]))\n",
    "\n",
    "# Tổng kết\n",
    "print(\"\\n=== Tổng kết biến quan trọng nhất ===\")\n",
    "print(f\"{'Mô hình':<30} {'Biến quan trọng nhất':<25} {'Giá trị':>10}\")\n",
    "for row in importance_summary:\n",
    "    print(f\"{row[0]:<30} {row[1]:<25} {row[2]:>10.6f}\")\n"
   ]
  },
  {
   "cell_type": "markdown",
   "id": "7fb41158",
   "metadata": {},
   "source": [
    "##  Phân tích theo thời gian và biến kinh tế vĩ mô\n",
    "\n",
    "Mục tiêu của phần này là mở rộng EDA bằng cách xem **xu hướng thời gian** ảnh hưởng thế nào đến khả năng khách hàng đăng ký gửi tiền (`y = yes`).  \n",
    "Các bước chính:\n",
    "1. Tạo thêm các biến thời gian (tháng số, mùa).  \n",
    "2. Phân tích tỷ lệ đăng ký (`conversion rate`) theo **tháng** và **mùa**.  \n",
    "3. Kết hợp các biến kinh tế vĩ mô để tìm hiểu **trong thời điểm tỷ lệ gửi tiền cao, các biến kinh tế vĩ mô có đặc điểm gì**.  \n"
   ]
  },
  {
   "cell_type": "code",
   "execution_count": 57,
   "id": "e5b213b7",
   "metadata": {},
   "outputs": [
    {
     "name": "stdout",
     "output_type": "stream",
     "text": [
      "✅ Đã thêm biến month_num và season\n",
      "+-----+---------+------+\n",
      "|month|month_num|season|\n",
      "+-----+---------+------+\n",
      "|  0.0|     NULL|winter|\n",
      "+-----+---------+------+\n",
      "\n"
     ]
    }
   ],
   "source": [
    "# --- 1️⃣ Tạo thêm các biến thời gian (tháng số, mùa) ---\n",
    "\n",
    "from pyspark.sql.functions import when, col\n",
    "\n",
    "# Map tháng sang số\n",
    "month_mapping = {\n",
    "    \"jan\": 1, \"feb\": 2, \"mar\": 3, \"apr\": 4,\n",
    "    \"may\": 5, \"jun\": 6, \"jul\": 7, \"aug\": 8,\n",
    "    \"sep\": 9, \"oct\": 10, \"nov\": 11, \"dec\": 12\n",
    "}\n",
    "\n",
    "# Biến tháng dạng số\n",
    "month_expr = None\n",
    "for m, n in month_mapping.items():\n",
    "    expr = when(col(\"month\") == m, n)\n",
    "    month_expr = expr if month_expr is None else month_expr.when(col(\"month\") == m, n)\n",
    "month_expr = month_expr.otherwise(None)\n",
    "\n",
    "data = data.withColumn(\"month_num\", month_expr)\n",
    "\n",
    "# Tạo biến mùa (xuân, hạ, thu, đông)\n",
    "data = data.withColumn(\n",
    "    \"season\",\n",
    "    when(col(\"month_num\").isin(3,4,5), \"spring\")\n",
    "    .when(col(\"month_num\").isin(6,7,8), \"summer\")\n",
    "    .when(col(\"month_num\").isin(9,10,11), \"autumn\")\n",
    "    .otherwise(\"winter\")\n",
    ")\n",
    "\n",
    "print(\"✅ Đã thêm biến month_num và season\")\n",
    "data.select(\"month\", \"month_num\", \"season\").distinct().orderBy(\"month_num\").show()\n"
   ]
  },
  {
   "cell_type": "markdown",
   "id": "4f79dddf",
   "metadata": {},
   "source": [
    "###  Phân tích tỷ lệ đăng ký theo thời gian\n",
    "Xem xét phân bố biến mục tiêu `y` theo **tháng** và **mùa** để xác định giai đoạn nào có nhiều khách hàng gửi tiền nhất.\n"
   ]
  },
  {
   "cell_type": "code",
   "execution_count": 58,
   "id": "e5f7e489",
   "metadata": {},
   "outputs": [
    {
     "name": "stdout",
     "output_type": "stream",
     "text": [
      "=== Tỷ lệ khách hàng đăng ký theo tháng ===\n",
      "+-----+-----+---------+------------------+\n",
      "|month|total|yes_count|conversion_rate   |\n",
      "+-----+-----+---------+------------------+\n",
      "|0.0  |41188|4640     |11.265417111780131|\n",
      "+-----+-----+---------+------------------+\n",
      "\n",
      "=== Tỷ lệ khách hàng đăng ký theo mùa ===\n",
      "+------+-----+---------+------------------+\n",
      "|season|total|yes_count|conversion_rate   |\n",
      "+------+-----+---------+------------------+\n",
      "|winter|41188|4640     |11.265417111780131|\n",
      "+------+-----+---------+------------------+\n",
      "\n"
     ]
    }
   ],
   "source": [
    "from pyspark.sql.functions import count, sum\n",
    "\n",
    "# --- 2️⃣ Tỷ lệ đăng ký theo tháng ---\n",
    "print(\"=== Tỷ lệ khách hàng đăng ký theo tháng ===\")\n",
    "conv_by_month = (\n",
    "    data.groupBy(\"month\")\n",
    "    .agg(\n",
    "        count(\"*\").alias(\"total\"),\n",
    "        sum(when(col(\"y\") == \"yes\", 1).otherwise(0)).alias(\"yes_count\")\n",
    "    )\n",
    "    .withColumn(\"conversion_rate\", col(\"yes_count\") / col(\"total\") * 100)\n",
    "    .orderBy(\"month\")\n",
    ")\n",
    "conv_by_month.show(truncate=False)\n",
    "\n",
    "# --- 3️⃣ Tỷ lệ đăng ký theo mùa ---\n",
    "print(\"=== Tỷ lệ khách hàng đăng ký theo mùa ===\")\n",
    "conv_by_season = (\n",
    "    data.groupBy(\"season\")\n",
    "    .agg(\n",
    "        count(\"*\").alias(\"total\"),\n",
    "        sum(when(col(\"y\") == \"yes\", 1).otherwise(0)).alias(\"yes_count\")\n",
    "    )\n",
    "    .withColumn(\"conversion_rate\", col(\"yes_count\") / col(\"total\") * 100)\n",
    "    .orderBy(\"season\")\n",
    ")\n",
    "conv_by_season.show(truncate=False)\n"
   ]
  },
  {
   "cell_type": "markdown",
   "id": "d6108dae",
   "metadata": {},
   "source": [
    "###  Liên hệ giữa tỷ lệ đăng ký và các biến kinh tế vĩ mô\n",
    "\n",
    "Bước này giúp hiểu rõ **khi tỷ lệ gửi tiền cao**, các yếu tố như **lãi suất, việc làm, lạm phát, niềm tin tiêu dùng** có giá trị như thế nào.\n"
   ]
  },
  {
   "cell_type": "code",
   "execution_count": 59,
   "id": "9a4f69e7",
   "metadata": {},
   "outputs": [
    {
     "name": "stdout",
     "output_type": "stream",
     "text": [
      "=== So sánh tỷ lệ đăng ký và đặc trưng kinh tế từng tháng ===\n",
      "+-----+-----+---------+------------------+-------------------+------------------+------------------+------------------+-----------------+\n",
      "|month|total|yes_count|conversion_rate   |avg_emp_var_rate   |avg_cons_price_idx|avg_cons_conf_idx |avg_euribor3m     |avg_nr_employed  |\n",
      "+-----+-----+---------+------------------+-------------------+------------------+------------------+------------------+-----------------+\n",
      "|0.0  |41188|4640     |11.265417111780131|0.08188550063178392|93.57566436828918 |-40.50260027191787|3.6212908128585366|5167.035910944004|\n",
      "+-----+-----+---------+------------------+-------------------+------------------+------------------+------------------+-----------------+\n",
      "\n"
     ]
    }
   ],
   "source": [
    "from pyspark.sql.functions import mean\n",
    "\n",
    "macro_cols = [\"emp_var_rate\", \"cons_price_idx\", \"cons_conf_idx\", \"euribor3m\", \"nr_employed\"]\n",
    "\n",
    "# --- 4️⃣ Trung bình biến vĩ mô theo từng tháng ---\n",
    "macro_by_month = data.groupBy(\"month\").agg(\n",
    "    *[mean(c).alias(f\"avg_{c}\") for c in macro_cols]\n",
    ")\n",
    "\n",
    "# --- 5️⃣ Kết hợp với conversion rate ---\n",
    "result = conv_by_month.join(macro_by_month, on=\"month\", how=\"inner\")\n",
    "\n",
    "# --- 6️⃣ Hiển thị kết quả theo thứ tự conversion giảm dần ---\n",
    "print(\"=== So sánh tỷ lệ đăng ký và đặc trưng kinh tế từng tháng ===\")\n",
    "result.orderBy(col(\"conversion_rate\").desc()).show(truncate=False)\n"
   ]
  },
  {
   "cell_type": "code",
   "execution_count": 60,
   "id": "e2fb2b35",
   "metadata": {},
   "outputs": [
    {
     "name": "stdout",
     "output_type": "stream",
     "text": [
      "✅ Hoàn tất xử lý dữ liệu — tất cả biến đã numeric và không null.\n",
      "+---------------------------------------+---+-----+\n",
      "|features                               |y  |label|\n",
      "+---------------------------------------+---+-----+\n",
      "|[1.1,93.994,-36.4,4.857,5191.0,0.0,1.0]|no |0.0  |\n",
      "|[1.1,93.994,-36.4,4.857,5191.0,0.0,1.0]|no |0.0  |\n",
      "|[1.1,93.994,-36.4,4.857,5191.0,0.0,1.0]|no |0.0  |\n",
      "+---------------------------------------+---+-----+\n",
      "only showing top 3 rows\n",
      "\n"
     ]
    }
   ],
   "source": [
    "from pyspark.sql.functions import col, when, lit\n",
    "from pyspark.ml.feature import StringIndexer, OneHotEncoder, VectorAssembler\n",
    "\n",
    "# --- Thêm tháng & mùa ---\n",
    "data_balanced = data_balanced.withColumn(\"month\", col(\"month\").cast(\"int\"))\n",
    "\n",
    "data_balanced = data_balanced.withColumn(\n",
    "    \"season\",\n",
    "    when(col(\"month\").isin(12, 1, 2), lit(\"Winter\"))\n",
    "    .when(col(\"month\").isin(3, 4, 5), lit(\"Spring\"))\n",
    "    .when(col(\"month\").isin(6, 7, 8), lit(\"Summer\"))\n",
    "    .when(col(\"month\").isin(9, 10, 11), lit(\"Autumn\"))\n",
    "    .otherwise(lit(\"Unknown\"))\n",
    ")\n",
    "\n",
    "# --- Đảm bảo không có null ---\n",
    "data_balanced = data_balanced.na.fill({\n",
    "    \"emp_var_rate\": 0.0,\n",
    "    \"cons_price_idx\": 0.0,\n",
    "    \"cons_conf_idx\": 0.0,\n",
    "    \"euribor3m\": 0.0,\n",
    "    \"nr_employed\": 0.0,\n",
    "    \"month\": 0,\n",
    "    \"season\": \"Unknown\"\n",
    "})\n",
    "\n",
    "# --- Encode cột season ---\n",
    "season_indexer = StringIndexer(\n",
    "    inputCol=\"season\", outputCol=\"season_index\", handleInvalid=\"keep\"\n",
    ")\n",
    "data_encoded = season_indexer.fit(data_balanced).transform(data_balanced)\n",
    "\n",
    "encoder = OneHotEncoder(inputCols=[\"season_index\"], outputCols=[\"season_vec\"])\n",
    "data_encoded = encoder.fit(data_encoded).transform(data_encoded)\n",
    "\n",
    "# --- Ép kiểu tất cả cột numeric ---\n",
    "numeric_cols = [\"emp_var_rate\", \"cons_price_idx\", \"cons_conf_idx\", \"euribor3m\", \"nr_employed\", \"month\"]\n",
    "for col_name in numeric_cols:\n",
    "    data_encoded = data_encoded.withColumn(col_name, col(col_name).cast(\"double\"))\n",
    "\n",
    "# --- Assemble features ---\n",
    "feature_cols = numeric_cols + [\"season_vec\"]\n",
    "assembler = VectorAssembler(inputCols=feature_cols, outputCol=\"features\")\n",
    "\n",
    "final_data = assembler.transform(data_encoded).select(\"features\", \"y\")\n",
    "\n",
    "# --- Encode nhãn ---\n",
    "indexer = StringIndexer(inputCol=\"y\", outputCol=\"label\")\n",
    "final_data = indexer.fit(final_data).transform(final_data)\n",
    "\n",
    "# --- Tách tập train/test ---\n",
    "train_data, test_data = final_data.randomSplit([0.8, 0.2], seed=42)\n",
    "\n",
    "print(\"✅ Hoàn tất xử lý dữ liệu — tất cả biến đã numeric và không null.\")\n",
    "final_data.show(3, truncate=False)\n"
   ]
  },
  {
   "cell_type": "markdown",
   "id": "10dce971",
   "metadata": {},
   "source": [
    "##  Huấn luyện mô hình với Cross Validation\n",
    "Áp dụng Logistic Regression, Random Forest và Gradient Boosted Trees — thêm tuning siêu tham số.\n"
   ]
  },
  {
   "cell_type": "code",
   "execution_count": 61,
   "id": "9cbdbda3",
   "metadata": {},
   "outputs": [
    {
     "name": "stdout",
     "output_type": "stream",
     "text": [
      "\n",
      "🚀 Training model: Logistic Regression\n",
      "\n",
      "Confusion Matrix (Logistic Regression):\n",
      "                 Pred=0     Pred=1\n",
      "Actual=0     |     5275   |     2010\n",
      "Actual=1     |     1883   |     5288\n",
      "\n",
      "Precision: 0.7246, Recall: 0.7374, F1: 0.7309, Accuracy: 0.7307, AUC: 0.8048\n",
      "\n",
      "🚀 Training model: Random Forest\n",
      "\n",
      "Confusion Matrix (Random Forest):\n",
      "                 Pred=0     Pred=1\n",
      "Actual=0     |     6874   |      411\n",
      "Actual=1     |      813   |     6358\n",
      "\n",
      "Precision: 0.9393, Recall: 0.8866, F1: 0.9122, Accuracy: 0.9153, AUC: 0.9610\n",
      "\n",
      "🚀 Training model: Gradient Boosted Trees\n",
      "\n",
      "Confusion Matrix (Gradient Boosted Trees):\n",
      "                 Pred=0     Pred=1\n",
      "Actual=0     |     6796   |      489\n",
      "Actual=1     |      748   |     6423\n",
      "\n",
      "Precision: 0.9293, Recall: 0.8957, F1: 0.9122, Accuracy: 0.9144, AUC: 0.9628\n",
      "\n",
      "✅ Đã train và lưu xong tất cả mô hình. Biến `best_models` và `cv_results` đã sẵn sàng.\n"
     ]
    }
   ],
   "source": [
    "from pyspark.ml.classification import LogisticRegression, RandomForestClassifier, GBTClassifier\n",
    "from pyspark.ml.tuning import CrossValidator, ParamGridBuilder\n",
    "from pyspark.ml.evaluation import BinaryClassificationEvaluator\n",
    "from pyspark.sql import SparkSession\n",
    "from pyspark.sql.functions import col\n",
    "import os\n",
    "\n",
    "spark = SparkSession.builder.getOrCreate()\n",
    "\n",
    "# --- Khởi tạo mô hình ---\n",
    "models = {\n",
    "    \"Logistic Regression\": LogisticRegression(featuresCol=\"features\", labelCol=\"label\"),\n",
    "    \"Random Forest\": RandomForestClassifier(featuresCol=\"features\", labelCol=\"label\"),\n",
    "    \"Gradient Boosted Trees\": GBTClassifier(featuresCol=\"features\", labelCol=\"label\")\n",
    "}\n",
    "\n",
    "evaluator = BinaryClassificationEvaluator(labelCol=\"label\", metricName=\"areaUnderROC\")\n",
    "\n",
    "# --- Hàm tính chỉ số ---\n",
    "def compute_metrics(df):\n",
    "    TP = df.filter((col(\"label\") == 1) & (col(\"prediction\") == 1)).count()\n",
    "    FP = df.filter((col(\"label\") == 0) & (col(\"prediction\") == 1)).count()\n",
    "    FN = df.filter((col(\"label\") == 1) & (col(\"prediction\") == 0)).count()\n",
    "    TN = df.filter((col(\"label\") == 0) & (col(\"prediction\") == 0)).count()\n",
    "\n",
    "    precision = TP / (TP + FP) if TP + FP > 0 else 0\n",
    "    recall = TP / (TP + FN) if TP + FN > 0 else 0\n",
    "    f1 = 2 * precision * recall / (precision + recall) if precision + recall > 0 else 0\n",
    "    accuracy = (TP + TN) / (TP + TN + FP + FN) if (TP + TN + FP + FN) > 0 else 0\n",
    "\n",
    "    return TP, FP, FN, TN, precision, recall, f1, accuracy\n",
    "\n",
    "\n",
    "# --- Thư mục lưu model ---\n",
    "os.makedirs(\"saved_models\", exist_ok=True)\n",
    "\n",
    "cv_results = {}\n",
    "best_models = {}\n",
    "\n",
    "# --- Train tất cả mô hình ---\n",
    "for name, model in models.items():\n",
    "    print(f\"\\n🚀 Training model: {name}\")\n",
    "\n",
    "    # --- Lưới tham số ---\n",
    "    if isinstance(model, LogisticRegression):\n",
    "        grid = ParamGridBuilder() \\\n",
    "            .addGrid(model.regParam, [0.01, 0.1, 1.0]) \\\n",
    "            .addGrid(model.elasticNetParam, [0.0, 0.5, 1.0]) \\\n",
    "            .build()\n",
    "    elif isinstance(model, RandomForestClassifier):\n",
    "        grid = ParamGridBuilder() \\\n",
    "            .addGrid(model.numTrees, [30, 50, 100]) \\\n",
    "            .addGrid(model.maxDepth, [5, 10]) \\\n",
    "            .build()\n",
    "    elif isinstance(model, GBTClassifier):\n",
    "        grid = ParamGridBuilder() \\\n",
    "            .addGrid(model.maxDepth, [3, 5]) \\\n",
    "            .addGrid(model.maxIter, [20, 40]) \\\n",
    "            .build()\n",
    "    else:\n",
    "        grid = ParamGridBuilder().build()\n",
    "\n",
    "    cv = CrossValidator(\n",
    "        estimator=model,\n",
    "        estimatorParamMaps=grid,\n",
    "        evaluator=evaluator,\n",
    "        numFolds=3,\n",
    "        parallelism=2\n",
    "    )\n",
    "\n",
    "    # --- Train và dự đoán ---\n",
    "    cv_model = cv.fit(train_data)\n",
    "    preds = cv_model.transform(test_data)\n",
    "\n",
    "    auc_per_param = list(cv_model.avgMetrics)\n",
    "    auc_best = evaluator.evaluate(preds)\n",
    "    TP, FP, FN, TN, precision, recall, f1, accuracy = compute_metrics(preds)\n",
    "\n",
    "    # --- Lưu kết quả ---\n",
    "    cv_results[name] = {\n",
    "        \"model\": cv_model.bestModel,\n",
    "        \"preds\": preds,\n",
    "        \"auc_best\": auc_best,\n",
    "        \"auc_list\": auc_per_param,\n",
    "        \"metrics\": {\n",
    "            \"TP\": TP, \"FP\": FP, \"FN\": FN, \"TN\": TN,\n",
    "            \"precision\": precision, \"recall\": recall, \"f1\": f1, \"accuracy\": accuracy\n",
    "        }\n",
    "    }\n",
    "\n",
    "    best_models[name] = cv_model.bestModel\n",
    "\n",
    "    # --- In confusion matrix và metric ---\n",
    "    print(f\"\\nConfusion Matrix ({name}):\")\n",
    "    print(\"                 Pred=0     Pred=1\")\n",
    "    print(f\"Actual=0     |   {TN:6d}   |   {FP:6d}\")\n",
    "    print(f\"Actual=1     |   {FN:6d}   |   {TP:6d}\")\n",
    "    print(f\"\\nPrecision: {precision:.4f}, Recall: {recall:.4f}, F1: {f1:.4f}, Accuracy: {accuracy:.4f}, AUC: {auc_best:.4f}\")\n",
    "\n",
    "\n",
    "print(\"\\n✅ Đã train và lưu xong tất cả mô hình. Biến `best_models` và `cv_results` đã sẵn sàng.\")\n"
   ]
  },
  {
   "cell_type": "markdown",
   "id": "8c789b8a",
   "metadata": {},
   "source": [
    "###  Kết quả tổng hợp\n"
   ]
  },
  {
   "cell_type": "code",
   "execution_count": 62,
   "id": "0842f682",
   "metadata": {},
   "outputs": [
    {
     "name": "stdout",
     "output_type": "stream",
     "text": [
      "=== Quá trình tuning AUC từng mô hình ===\n",
      "\n",
      "\n",
      "👉 Logistic Regression\n",
      "  - Lần 1: AUC = 0.8028\n",
      "  - Lần 2: AUC = 0.8013\n",
      "  - Lần 3: AUC = 0.8003\n",
      "  - Lần 4: AUC = 0.7986\n",
      "  - Lần 5: AUC = 0.7971\n",
      "  - Lần 6: AUC = 0.7987\n",
      "  - Lần 7: AUC = 0.7908\n",
      "  - Lần 8: AUC = 0.5000\n",
      "  - Lần 9: AUC = 0.5000\n",
      "✅ Best AUC = 0.8048\n",
      "\n",
      "👉 Random Forest\n",
      "  - Lần 1: AUC = 0.9368\n",
      "  - Lần 2: AUC = 0.9599\n",
      "  - Lần 3: AUC = 0.9379\n",
      "  - Lần 4: AUC = 0.9593\n",
      "  - Lần 5: AUC = 0.9384\n",
      "  - Lần 6: AUC = 0.9595\n",
      "✅ Best AUC = 0.9610\n",
      "\n",
      "👉 Gradient Boosted Trees\n",
      "  - Lần 1: AUC = 0.9503\n",
      "  - Lần 2: AUC = 0.9568\n",
      "  - Lần 3: AUC = 0.9605\n",
      "  - Lần 4: AUC = 0.9614\n",
      "✅ Best AUC = 0.9628\n"
     ]
    }
   ],
   "source": [
    "print(\"=== Quá trình tuning AUC từng mô hình ===\\n\")\n",
    "\n",
    "for name, info in cv_results.items():\n",
    "    print(f\"\\n👉 {name}\")\n",
    "    auc_list = info[\"auc_list\"]\n",
    "    for i, auc_val in enumerate(auc_list):\n",
    "        print(f\"  - Lần {i+1}: AUC = {auc_val:.4f}\")\n",
    "    print(f\"✅ Best AUC = {info['auc_best']:.4f}\")\n"
   ]
  },
  {
   "cell_type": "code",
   "execution_count": 63,
   "id": "97368585",
   "metadata": {},
   "outputs": [
    {
     "name": "stdout",
     "output_type": "stream",
     "text": [
      "=== Confusion Matrix từng mô hình ===\n",
      "\n",
      "\n",
      "📘 Logistic Regression\n",
      "                 Pred=0     Pred=1\n",
      "Actual=0     |     5275   |     2010\n",
      "Actual=1     |     1883   |     5288\n",
      "\n",
      "Precision: 0.7246, Recall: 0.7374, F1: 0.7309, Accuracy: 0.7307\n",
      "\n",
      "📘 Random Forest\n",
      "                 Pred=0     Pred=1\n",
      "Actual=0     |     6874   |      411\n",
      "Actual=1     |      813   |     6358\n",
      "\n",
      "Precision: 0.9393, Recall: 0.8866, F1: 0.9122, Accuracy: 0.9153\n",
      "\n",
      "📘 Gradient Boosted Trees\n",
      "                 Pred=0     Pred=1\n",
      "Actual=0     |     6796   |      489\n",
      "Actual=1     |      748   |     6423\n",
      "\n",
      "Precision: 0.9293, Recall: 0.8957, F1: 0.9122, Accuracy: 0.9144\n"
     ]
    }
   ],
   "source": [
    "print(\"=== Confusion Matrix từng mô hình ===\\n\")\n",
    "\n",
    "for name, info in cv_results.items():\n",
    "    m = info[\"metrics\"]\n",
    "    print(f\"\\n📘 {name}\")\n",
    "    print(\"                 Pred=0     Pred=1\")\n",
    "    print(f\"Actual=0     |   {m['TN']:6d}   |   {m['FP']:6d}\")\n",
    "    print(f\"Actual=1     |   {m['FN']:6d}   |   {m['TP']:6d}\")\n",
    "    print(f\"\\nPrecision: {m['precision']:.4f}, Recall: {m['recall']:.4f}, F1: {m['f1']:.4f}, Accuracy: {m['accuracy']:.4f}\")\n"
   ]
  },
  {
   "cell_type": "code",
   "execution_count": 64,
   "id": "b87b06e7",
   "metadata": {},
   "outputs": [
    {
     "name": "stdout",
     "output_type": "stream",
     "text": [
      "=== Tổng hợp kết quả tất cả mô hình ===\n",
      "\n",
      "Model                     | AUC    | Precision  | Recall   | F1     | Acc   \n",
      "----------------------------------------------------------------------\n",
      "Logistic Regression       | 0.8048 | 0.7246     | 0.7374  | 0.7309 | 0.7307\n",
      "Random Forest             | 0.9610 | 0.9393     | 0.8866  | 0.9122 | 0.9153\n",
      "Gradient Boosted Trees    | 0.9628 | 0.9293     | 0.8957  | 0.9122 | 0.9144\n"
     ]
    }
   ],
   "source": [
    "print(\"=== Tổng hợp kết quả tất cả mô hình ===\\n\")\n",
    "print(f\"{'Model':25s} | {'AUC':6s} | {'Precision':10s} | {'Recall':8s} | {'F1':6s} | {'Acc':6s}\")\n",
    "print(\"-\"*70)\n",
    "for name, info in cv_results.items():\n",
    "    m = info[\"metrics\"]\n",
    "    print(f\"{name:25s} | {info['auc_best']:.4f} | {m['precision']:.4f}     | {m['recall']:.4f}  | {m['f1']:.4f} | {m['accuracy']:.4f}\")\n"
   ]
  },
  {
   "cell_type": "markdown",
   "id": "a0de3207",
   "metadata": {},
   "source": [
    "###  Phân tích tầm quan trọng của biến sau khi thêm \"tháng\" và \"mùa\"\n"
   ]
  },
  {
   "cell_type": "code",
   "execution_count": 65,
   "id": "06a7fa17",
   "metadata": {},
   "outputs": [
    {
     "name": "stdout",
     "output_type": "stream",
     "text": [
      "✅ Đã tạo feature_importance_df (chứa tất cả mô hình).\n"
     ]
    }
   ],
   "source": [
    "from pyspark.sql import Row\n",
    "from pyspark.sql.functions import col\n",
    "\n",
    "importance_rows = []\n",
    "\n",
    "for name, fitted in best_models.items():\n",
    "    if hasattr(fitted, \"featureImportances\"):  # RandomForest / GBT\n",
    "        importances = list(fitted.featureImportances)\n",
    "        for feat, imp in zip(feature_cols, importances):\n",
    "            importance_rows.append(Row(model=name, feature=feat, importance=float(imp)))\n",
    "\n",
    "    elif hasattr(fitted, \"coefficients\"):  # Logistic Regression\n",
    "        for feat, imp in zip(feature_cols, fitted.coefficients):\n",
    "            importance_rows.append(Row(model=name, feature=feat, importance=float(abs(imp))))\n",
    "\n",
    "    else:\n",
    "        print(f\"⚠️ {name}: Không hỗ trợ trích xuất feature importance.\")\n",
    "\n",
    "# --- Tạo DataFrame Spark ---\n",
    "feature_importance_df = spark.createDataFrame(importance_rows)\n",
    "print(\"✅ Đã tạo feature_importance_df (chứa tất cả mô hình).\")\n"
   ]
  },
  {
   "cell_type": "code",
   "execution_count": 66,
   "id": "51997e3e",
   "metadata": {},
   "outputs": [
    {
     "name": "stdout",
     "output_type": "stream",
     "text": [
      "📊 Feature Importance: Logistic Regression\n",
      "+-------------------+--------------+--------------------+\n",
      "|model              |feature       |importance          |\n",
      "+-------------------+--------------+--------------------+\n",
      "|Logistic Regression|cons_price_idx|0.431698656457129   |\n",
      "|Logistic Regression|emp_var_rate  |0.24618010540976207 |\n",
      "|Logistic Regression|euribor3m     |0.21827262608142817 |\n",
      "|Logistic Regression|cons_conf_idx |0.05621535092980314 |\n",
      "|Logistic Regression|nr_employed   |0.007634176901973183|\n",
      "|Logistic Regression|month         |0.0                 |\n",
      "|Logistic Regression|season_vec    |0.0                 |\n",
      "+-------------------+--------------+--------------------+\n",
      "\n"
     ]
    }
   ],
   "source": [
    "print(\"📊 Feature Importance: Logistic Regression\")\n",
    "feature_importance_df.filter(col(\"model\") == \"Logistic Regression\") \\\n",
    "    .orderBy(col(\"importance\").desc()) \\\n",
    "    .show(truncate=False)\n"
   ]
  },
  {
   "cell_type": "code",
   "execution_count": 67,
   "id": "95b1162d",
   "metadata": {},
   "outputs": [
    {
     "name": "stdout",
     "output_type": "stream",
     "text": [
      "📊 Feature Importance: Random Forest\n",
      "+-------------+--------------+-------------------+\n",
      "|model        |feature       |importance         |\n",
      "+-------------+--------------+-------------------+\n",
      "|Random Forest|nr_employed   |0.2632992099402898 |\n",
      "|Random Forest|euribor3m     |0.24891744827229528|\n",
      "|Random Forest|cons_conf_idx |0.19121900709587356|\n",
      "|Random Forest|emp_var_rate  |0.18997014400303414|\n",
      "|Random Forest|cons_price_idx|0.1065941906885072 |\n",
      "|Random Forest|month         |0.0                |\n",
      "|Random Forest|season_vec    |0.0                |\n",
      "+-------------+--------------+-------------------+\n",
      "\n"
     ]
    }
   ],
   "source": [
    "print(\"📊 Feature Importance: Random Forest\")\n",
    "feature_importance_df.filter(col(\"model\") == \"Random Forest\") \\\n",
    "    .orderBy(col(\"importance\").desc()) \\\n",
    "    .show(truncate=False)\n"
   ]
  },
  {
   "cell_type": "code",
   "execution_count": 68,
   "id": "3d1fb496",
   "metadata": {},
   "outputs": [
    {
     "name": "stdout",
     "output_type": "stream",
     "text": [
      "📊 Feature Importance: Gradient Boosted Trees\n",
      "+----------------------+--------------+-------------------+\n",
      "|model                 |feature       |importance         |\n",
      "+----------------------+--------------+-------------------+\n",
      "|Gradient Boosted Trees|cons_conf_idx |0.2805864919125758 |\n",
      "|Gradient Boosted Trees|nr_employed   |0.26725407529419015|\n",
      "|Gradient Boosted Trees|emp_var_rate  |0.23827387194195473|\n",
      "|Gradient Boosted Trees|cons_price_idx|0.13602102954187395|\n",
      "|Gradient Boosted Trees|euribor3m     |0.07786453130940538|\n",
      "|Gradient Boosted Trees|month         |0.0                |\n",
      "|Gradient Boosted Trees|season_vec    |0.0                |\n",
      "+----------------------+--------------+-------------------+\n",
      "\n"
     ]
    }
   ],
   "source": [
    "print(\"📊 Feature Importance: Gradient Boosted Trees\")\n",
    "feature_importance_df.filter(col(\"model\") == \"Gradient Boosted Trees\") \\\n",
    "    .orderBy(col(\"importance\").desc()) \\\n",
    "    .show(truncate=False)\n"
   ]
  }
 ],
 "metadata": {
  "kernelspec": {
   "display_name": "Python 3",
   "language": "python",
   "name": "python3"
  },
  "language_info": {
   "codemirror_mode": {
    "name": "ipython",
    "version": 3
   },
   "file_extension": ".py",
   "mimetype": "text/x-python",
   "name": "python",
   "nbconvert_exporter": "python",
   "pygments_lexer": "ipython3",
   "version": "3.9.8"
  }
 },
 "nbformat": 4,
 "nbformat_minor": 5
}
